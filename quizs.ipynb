{
 "cells": [
  {
   "cell_type": "markdown",
   "metadata": {},
   "source": [
    "**Q1**: A positive integer is defined as *ideal* if it can be expressed in\n",
    "the form $3^x\\times 5^y$ for some non-negative integers $x$ and $y$.\n",
    "Ideal integers have only $3$ and $5$ as prime divisors. The integers\n",
    "$15$, $45$ and $75$ are ideal integers but $6$, $10$ and $21$ are not.\n",
    "\n",
    "**Find the number of ideal-integers within the given segment[l,r],\n",
    "inclusive, i.e. the integers $t$ such that $l\\le t\\le r$.**\n",
    "\n",
    "For example, $l=200, r=405$. The smallest *ideal* integer in that range\n",
    "is $3^2 * 5^2 =225$. Other vaues are $3^5 * 5^0 = 243$, $3^1 * 5^3 =\n",
    "375$, and $3^4 * 5^1 = 405$. There are 4 ideal integers in the range.\n",
    "\n",
    "**Function Description**\n",
    "Complete the function *getIdealNums* in the editor below. The function\n",
    "return the number of *ideal* integers in the inclusive range.\n",
    "\n",
    "*getIdealNums* has the following parameters:\n",
    "l: an integer\n",
    "r: an integer\n",
    "\n",
    "**Constraints**\n",
    "\n",
    "* $1\\le l\\le r\\le 2\\times 10^9$\n",
    "\n",
    "**Answer**\n",
    "\n",
    "Note that \n",
    "\n",
    "\\begin{align}\\tag{1}\n",
    "L\\le 3^x\\times 5^y\\le R \n",
    "\\end{align}\n",
    "iff\n",
    "\n",
    "\\begin{align}\\tag{2}\n",
    "\\ln{L}\\le x\\ln{3}\\times y\\ln{5}\\le \\ln{M}\n",
    "\\end{align}\n",
    "and the integers $x,y\\ge 0$ which satisfy (2) must satisfy\n",
    "\\begin{align}\\tag{3}\n",
    "x\\le \\frac{\\ln{M}}{\\ln{3}}\n",
    "\\end{align}\n",
    "\n",
    "\\begin{align}\\tag{4}\n",
    "y\\le \\frac{\\ln{M}}{\\ln{5}}\n",
    "\\end{align}\n",
    "Also\n",
    "\\begin{align}\\tag{5}\n",
    "x+y\\ge \\frac{\\ln{L}}{\\ln{5}}\n",
    "\\end{align}\n",
    "There are only finitely many non-negative integers satisfying (3), (4), (5).\n",
    "\n",
    "Put these on vertical and horizontal azes in MS-EXCEL and check which one satisfy (2)\n",
    "\n",
    "This gives all the answers."
   ]
  },
  {
   "cell_type": "code",
   "execution_count": null,
   "metadata": {},
   "outputs": [],
   "source": []
  }
 ],
 "metadata": {
  "kernelspec": {
   "display_name": "Python 3",
   "language": "python",
   "name": "python3"
  },
  "language_info": {
   "codemirror_mode": {
    "name": "ipython",
    "version": 3
   },
   "file_extension": ".py",
   "mimetype": "text/x-python",
   "name": "python",
   "nbconvert_exporter": "python",
   "pygments_lexer": "ipython3",
   "version": "3.6.9"
  }
 },
 "nbformat": 4,
 "nbformat_minor": 2
}
